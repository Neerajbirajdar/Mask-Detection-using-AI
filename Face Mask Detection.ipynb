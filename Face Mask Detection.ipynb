{
 "cells": [
  {
   "cell_type": "code",
   "execution_count": 1,
   "id": "52e13fd2-2e9a-48b5-b09a-a8060d3647d9",
   "metadata": {},
   "outputs": [],
   "source": [
    "import numpy as np\n",
    "import pandas as pd\n",
    "import matplotlib.pyplot as plt\n",
    "%matplotlib inline"
   ]
  },
  {
   "cell_type": "code",
   "execution_count": 2,
   "id": "9716a504-c667-4506-b50a-2469fb1cb06e",
   "metadata": {},
   "outputs": [],
   "source": [
    "import tensorflow as tf\n",
    "from tensorflow import keras"
   ]
  },
  {
   "cell_type": "code",
   "execution_count": 3,
   "id": "412723a4-da7f-40ac-bd8a-39c21d2434c7",
   "metadata": {},
   "outputs": [],
   "source": [
    "train_dir=r\"C:\\Users\\Neeraj\\Desktop\\Desktop\\deeplearning course\\final project\\Final_Assignment_Face Mask Dataset\\Train\"\n",
    "validation_dir=r\"C:\\Users\\Neeraj\\Desktop\\Desktop\\deeplearning course\\final project\\Final_Assignment_Face Mask Dataset\\Validation\"\n",
    "test_dir=r\"C:\\Users\\Neeraj\\Desktop\\Desktop\\deeplearning course\\final project\\Final_Assignment_Face Mask Dataset\\Test\""
   ]
  },
  {
   "cell_type": "code",
   "execution_count": 4,
   "id": "d9772f5d-289c-4510-8182-d16353827fb8",
   "metadata": {},
   "outputs": [
    {
     "name": "stdout",
     "output_type": "stream",
     "text": [
      "Found 10000 images belonging to 2 classes.\n",
      "Found 10000 images belonging to 2 classes.\n"
     ]
    }
   ],
   "source": [
    "from tensorflow.keras.preprocessing.image import ImageDataGenerator\n",
    "\n",
    "train_datagen=ImageDataGenerator(\n",
    "    rescale=1./255,\n",
    "    rotation_range=40,\n",
    "    width_shift_range=0.2,\n",
    "    height_shift_range=0.2,\n",
    "    shear_range=0.2,\n",
    "    zoom_range=0.2,\n",
    "    horizontal_flip=True\n",
    ")\n",
    "\n",
    "test_datagen=ImageDataGenerator(rescale=1./255)\n",
    "\n",
    "train_generator=train_datagen.flow_from_directory(\n",
    "    train_dir,\n",
    "    target_size=(150,150),\n",
    "    batch_size=20,\n",
    "    class_mode='binary'\n",
    ")\n",
    "\n",
    "validation_generator=test_datagen.flow_from_directory(\n",
    "    train_dir,\n",
    "    target_size=(150,150),\n",
    "    batch_size=20,\n",
    "    class_mode='binary'\n",
    ")"
   ]
  },
  {
   "cell_type": "code",
   "execution_count": 5,
   "id": "243151b6-edda-4241-941a-8664898382f2",
   "metadata": {},
   "outputs": [],
   "source": [
    "from tensorflow.keras.applications import VGG19\n",
    "conv_base=VGG19(weights='imagenet',\n",
    "               include_top=False,\n",
    "               input_shape=(150,150,3))"
   ]
  },
  {
   "cell_type": "code",
   "execution_count": 6,
   "id": "797ca41d-a2bf-4812-b5e8-c3b8029de646",
   "metadata": {},
   "outputs": [],
   "source": [
    "from tensorflow.keras import models\n",
    "from tensorflow.keras import layers\n",
    "\n",
    "model=models.Sequential()\n",
    "model.add(conv_base)\n",
    "model.add(layers.Flatten())\n",
    "model.add(layers.Dense(256,activation=\"relu\"))\n",
    "model.add(layers.Dense(1,activation=\"sigmoid\"))\n"
   ]
  },
  {
   "cell_type": "code",
   "execution_count": 7,
   "id": "ce9f813e-59bb-4fc4-ba13-3bdcc6a81e7c",
   "metadata": {},
   "outputs": [
    {
     "name": "stdout",
     "output_type": "stream",
     "text": [
      "Model: \"sequential\"\n",
      "_________________________________________________________________\n",
      " Layer (type)                Output Shape              Param #   \n",
      "=================================================================\n",
      " vgg19 (Functional)          (None, 4, 4, 512)         20024384  \n",
      "                                                                 \n",
      " flatten (Flatten)           (None, 8192)              0         \n",
      "                                                                 \n",
      " dense (Dense)               (None, 256)               2097408   \n",
      "                                                                 \n",
      " dense_1 (Dense)             (None, 1)                 257       \n",
      "                                                                 \n",
      "=================================================================\n",
      "Total params: 22,122,049\n",
      "Trainable params: 22,122,049\n",
      "Non-trainable params: 0\n",
      "_________________________________________________________________\n"
     ]
    }
   ],
   "source": [
    "model.summary()"
   ]
  },
  {
   "cell_type": "code",
   "execution_count": 12,
   "id": "76370b7e-dd4f-48a9-8bef-bd025c333841",
   "metadata": {},
   "outputs": [],
   "source": [
    "from tensorflow.keras import optimizers\n",
    "\n",
    "model.compile(loss=\"binary_crossentropy\",\n",
    "             optimizer=optimizers.RMSprop(learning_rate=2e-5),\n",
    "             metrics=['acc']\n",
    "             )"
   ]
  },
  {
   "cell_type": "code",
   "execution_count": 13,
   "id": "409e6c45-db2a-401c-9b74-da43705d0f0b",
   "metadata": {},
   "outputs": [],
   "source": [
    "checkpoint_cb=keras.callbacks.ModelCheckpoint(\"CNN_Project_Model-{epoch:02d}.h5\")"
   ]
  },
  {
   "cell_type": "code",
   "execution_count": 14,
   "id": "00dd9745-8555-4453-ad74-39bed5a0496b",
   "metadata": {},
   "outputs": [
    {
     "name": "stdout",
     "output_type": "stream",
     "text": [
      "Epoch 1/7\n",
      "100/100 [==============================] - 738s 7s/step - loss: 0.2019 - acc: 0.9055 - val_loss: 0.0319 - val_acc: 0.9900\n",
      "Epoch 2/7\n",
      "100/100 [==============================] - 744s 7s/step - loss: 0.0701 - acc: 0.9775 - val_loss: 0.0223 - val_acc: 0.9910\n",
      "Epoch 3/7\n",
      "100/100 [==============================] - 728s 7s/step - loss: 0.0451 - acc: 0.9850 - val_loss: 0.0265 - val_acc: 0.9920\n",
      "Epoch 4/7\n",
      "100/100 [==============================] - 771s 8s/step - loss: 0.0374 - acc: 0.9865 - val_loss: 0.0233 - val_acc: 0.9950\n",
      "Epoch 5/7\n",
      "100/100 [==============================] - 758s 8s/step - loss: 0.0397 - acc: 0.9845 - val_loss: 0.0062 - val_acc: 0.9980\n",
      "Epoch 6/7\n",
      "100/100 [==============================] - 754s 8s/step - loss: 0.0359 - acc: 0.9895 - val_loss: 0.0056 - val_acc: 0.9970\n",
      "Epoch 7/7\n",
      "100/100 [==============================] - 754s 8s/step - loss: 0.0296 - acc: 0.9915 - val_loss: 0.0254 - val_acc: 0.9940\n"
     ]
    }
   ],
   "source": [
    "history=model.fit(\n",
    "    train_generator,\n",
    "    steps_per_epoch=100,\n",
    "    epochs=7,\n",
    "    validation_data=validation_generator,\n",
    "    validation_steps=50,\n",
    "    callbacks=[checkpoint_cb]\n",
    ")"
   ]
  },
  {
   "cell_type": "code",
   "execution_count": 15,
   "id": "dbd3c000-4360-40c5-b259-bb229ac2157f",
   "metadata": {},
   "outputs": [
    {
     "data": {
      "image/png": "[encoded data removed]",
      "text/plain": [
       "<Figure size 576x360 with 1 Axes>"
      ]
     },
     "metadata": {
      "needs_background": "light"
     },
     "output_type": "display_data"
    }
   ],
   "source": [
    "pd.DataFrame(history.history).plot(figsize=(8,5))\n",
    "plt.grid(True)\n",
    "plt.gca().set_ylim(0,1)\n",
    "plt.show()"
   ]
  },
  {
   "cell_type": "code",
   "execution_count": null,
   "id": "dfb7383d-10b5-4c3a-af60-16a7fb8267f3",
   "metadata": {},
   "outputs": [],
   "source": []
  }
 ],
 "metadata": {
  "kernelspec": {
   "display_name": "Python 3 (ipykernel)",
   "language": "python",
   "name": "python3"
  },
  "language_info": {
   "codemirror_mode": {
    "name": "ipython",
    "version": 3
   },
   "file_extension": ".py",
   "mimetype": "text/x-python",
   "name": "python",
   "nbconvert_exporter": "python",
   "pygments_lexer": "ipython3",
   "version": "3.9.7"
  }
 },
 "nbformat": 4,
 "nbformat_minor": 5
}
